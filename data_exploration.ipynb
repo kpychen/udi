{
 "cells": [
  {
   "cell_type": "code",
   "execution_count": 1,
   "metadata": {},
   "outputs": [
    {
     "data": {
      "text/plain": [
       "'/Users/kennethchen/GDrive_KPC/Udi_files/udi_codes'"
      ]
     },
     "execution_count": 1,
     "metadata": {},
     "output_type": "execute_result"
    }
   ],
   "source": [
    "pwd"
   ]
  },
  {
   "cell_type": "code",
   "execution_count": 1,
   "metadata": {},
   "outputs": [],
   "source": [
    "# Import libraries\n",
    "\n",
    "import csv\n",
    "import numpy as np\n",
    "import pandas as pd\n",
    "import matplotlib as mpl\n",
    "import seaborn as sns\n",
    "import scipy\n",
    "\n",
    "import matplotlib.pyplot as plt\n",
    "from numpy.random import randn\n",
    "from scipy import stats\n",
    "\n",
    "%matplotlib inline"
   ]
  },
  {
   "cell_type": "code",
   "execution_count": 82,
   "metadata": {},
   "outputs": [],
   "source": [
    "# open csv file\n",
    "explore_data = open('clean_dataset_2_new.csv', encoding='utf-8')\n",
    "# read file into list of lists\n",
    "csv_explore_data = csv.reader(explore_data)\n",
    "explore_data_lines = list(csv_explore_data)\n",
    "column_names = explore_data_lines[0]"
   ]
  },
  {
   "cell_type": "code",
   "execution_count": 65,
   "metadata": {},
   "outputs": [],
   "source": [
    "# make dataframe, assign row1 as column names and then drop row1 in the dataframe\n",
    "explore_data_frame = pd.DataFrame(explore_data_lines, columns = column_names)\n",
    "explore_data_frame = explore_data_frame.drop(index=0)"
   ]
  },
  {
   "cell_type": "code",
   "execution_count": 79,
   "metadata": {},
   "outputs": [
    {
     "data": {
      "text/plain": [
       "['subject_id',\n",
       " 'redcap_repeat_instrument',\n",
       " 'redcap_repeat_instance',\n",
       " 'age_years',\n",
       " 'sex',\n",
       " 'hieght_cm',\n",
       " 'weight',\n",
       " 'charlson_comorbidity_index',\n",
       " 'us_serial_num_udi',\n",
       " 'date_udi_assessment',\n",
       " 'thickness_ex_tidal',\n",
       " 'thickness_in_tidal',\n",
       " 'thickness_fraction_tidal',\n",
       " 'excursion_tidal',\n",
       " 'contraction_vmax',\n",
       " 'relaxation_vmax',\n",
       " 'acceleration_time',\n",
       " 'relaxation_rate',\n",
       " 'contraction_vti',\n",
       " 'relaxation_vti',\n",
       " 'vent_mode_udi',\n",
       " 'fio2_udi',\n",
       " 'o2_sat_pulsox_udi',\n",
       " 'paralytics_udi',\n",
       " 'hos_admission_date',\n",
       " 'number_of_icu_stay',\n",
       " 'day_mortality',\n",
       " 'discharge_disposition',\n",
       " 'date_of_death',\n",
       " 'transfer_to_icu_date',\n",
       " 'time_of_intubation_icu',\n",
       " 'time_of_extubation_icu',\n",
       " 'respiratory_status_at_24_h',\n",
       " 'respiratory_status_at_48_h',\n",
       " 'respiratory_status_at_72_h',\n",
       " 'transfer_out_of_icu_date',\n",
       " 'vent_day']"
      ]
     },
     "execution_count": 79,
     "metadata": {},
     "output_type": "execute_result"
    }
   ],
   "source": [
    "column_names"
   ]
  },
  {
   "cell_type": "code",
   "execution_count": 73,
   "metadata": {},
   "outputs": [
    {
     "data": {
      "text/html": [
       "<div>\n",
       "<style scoped>\n",
       "    .dataframe tbody tr th:only-of-type {\n",
       "        vertical-align: middle;\n",
       "    }\n",
       "\n",
       "    .dataframe tbody tr th {\n",
       "        vertical-align: top;\n",
       "    }\n",
       "\n",
       "    .dataframe thead th {\n",
       "        text-align: right;\n",
       "    }\n",
       "</style>\n",
       "<table border=\"1\" class=\"dataframe\">\n",
       "  <thead>\n",
       "    <tr style=\"text-align: right;\">\n",
       "      <th></th>\n",
       "      <th>subject_id</th>\n",
       "      <th>redcap_repeat_instrument</th>\n",
       "      <th>redcap_repeat_instance</th>\n",
       "      <th>age_years</th>\n",
       "      <th>sex</th>\n",
       "      <th>hieght_cm</th>\n",
       "      <th>weight</th>\n",
       "      <th>charlson_comorbidity_index</th>\n",
       "      <th>us_serial_num_udi</th>\n",
       "      <th>date_udi_assessment</th>\n",
       "      <th>...</th>\n",
       "      <th>discharge_disposition</th>\n",
       "      <th>date_of_death</th>\n",
       "      <th>transfer_to_icu_date</th>\n",
       "      <th>time_of_intubation_icu</th>\n",
       "      <th>time_of_extubation_icu</th>\n",
       "      <th>respiratory_status_at_24_h</th>\n",
       "      <th>respiratory_status_at_48_h</th>\n",
       "      <th>respiratory_status_at_72_h</th>\n",
       "      <th>transfer_out_of_icu_date</th>\n",
       "      <th>vent_day</th>\n",
       "    </tr>\n",
       "  </thead>\n",
       "  <tbody>\n",
       "    <tr>\n",
       "      <th>1</th>\n",
       "      <td>3</td>\n",
       "      <td>ultrasound_measurements</td>\n",
       "      <td>1</td>\n",
       "      <td>26.404375175397167</td>\n",
       "      <td>1</td>\n",
       "      <td>170.18</td>\n",
       "      <td>65.5</td>\n",
       "      <td>3</td>\n",
       "      <td>1</td>\n",
       "      <td>2020-09-03 11:45</td>\n",
       "      <td>...</td>\n",
       "      <td>1</td>\n",
       "      <td></td>\n",
       "      <td>2020-08-28</td>\n",
       "      <td>2020-08-28 14:04</td>\n",
       "      <td>2020-09-10 08:00</td>\n",
       "      <td>6</td>\n",
       "      <td>6</td>\n",
       "      <td>6</td>\n",
       "      <td>2020-09-23</td>\n",
       "      <td>6</td>\n",
       "    </tr>\n",
       "    <tr>\n",
       "      <th>2</th>\n",
       "      <td>4</td>\n",
       "      <td>ultrasound_measurements</td>\n",
       "      <td>1</td>\n",
       "      <td>35.00687899135506</td>\n",
       "      <td>1</td>\n",
       "      <td>165.1</td>\n",
       "      <td>84.7</td>\n",
       "      <td>1</td>\n",
       "      <td>1</td>\n",
       "      <td>2020-09-03 15:06</td>\n",
       "      <td>...</td>\n",
       "      <td>7</td>\n",
       "      <td>2020-10-25</td>\n",
       "      <td>2020-08-31</td>\n",
       "      <td>2020-08-28 15:29</td>\n",
       "      <td></td>\n",
       "      <td></td>\n",
       "      <td></td>\n",
       "      <td></td>\n",
       "      <td></td>\n",
       "      <td>6</td>\n",
       "    </tr>\n",
       "    <tr>\n",
       "      <th>3</th>\n",
       "      <td>5</td>\n",
       "      <td>ultrasound_measurements</td>\n",
       "      <td>1</td>\n",
       "      <td>59.04022669870018</td>\n",
       "      <td>1</td>\n",
       "      <td>182.88</td>\n",
       "      <td>118.3</td>\n",
       "      <td>4</td>\n",
       "      <td>1</td>\n",
       "      <td>2020-09-11 16:10</td>\n",
       "      <td>...</td>\n",
       "      <td>7</td>\n",
       "      <td>2020-09-19</td>\n",
       "      <td>2020-09-09</td>\n",
       "      <td>2020-09-09 13:00</td>\n",
       "      <td>2020-09-13 12:00</td>\n",
       "      <td>2</td>\n",
       "      <td>2</td>\n",
       "      <td>1</td>\n",
       "      <td>2020-09-14</td>\n",
       "      <td>2</td>\n",
       "    </tr>\n",
       "    <tr>\n",
       "      <th>4</th>\n",
       "      <td>6</td>\n",
       "      <td>ultrasound_measurements</td>\n",
       "      <td>1</td>\n",
       "      <td>49.10162426333189</td>\n",
       "      <td>1</td>\n",
       "      <td>165.1</td>\n",
       "      <td>88.1</td>\n",
       "      <td>2</td>\n",
       "      <td>1</td>\n",
       "      <td>2020-09-11 15:07</td>\n",
       "      <td>...</td>\n",
       "      <td>7</td>\n",
       "      <td>2020-11-11</td>\n",
       "      <td>2020-08-26</td>\n",
       "      <td>2020-08-24 09:32</td>\n",
       "      <td></td>\n",
       "      <td></td>\n",
       "      <td></td>\n",
       "      <td></td>\n",
       "      <td></td>\n",
       "      <td>18</td>\n",
       "    </tr>\n",
       "    <tr>\n",
       "      <th>5</th>\n",
       "      <td>7</td>\n",
       "      <td>ultrasound_measurements</td>\n",
       "      <td>1</td>\n",
       "      <td>61.624696833838705</td>\n",
       "      <td>2</td>\n",
       "      <td>165.1</td>\n",
       "      <td>72</td>\n",
       "      <td>2</td>\n",
       "      <td>1</td>\n",
       "      <td>2020-09-15 15:30</td>\n",
       "      <td>...</td>\n",
       "      <td>7</td>\n",
       "      <td>2020-09-26</td>\n",
       "      <td>2020-09-11</td>\n",
       "      <td>2020-09-10 09:42</td>\n",
       "      <td></td>\n",
       "      <td></td>\n",
       "      <td></td>\n",
       "      <td></td>\n",
       "      <td></td>\n",
       "      <td>5</td>\n",
       "    </tr>\n",
       "  </tbody>\n",
       "</table>\n",
       "<p>5 rows × 37 columns</p>\n",
       "</div>"
      ],
      "text/plain": [
       "  subject_id redcap_repeat_instrument redcap_repeat_instance  \\\n",
       "1          3  ultrasound_measurements                      1   \n",
       "2          4  ultrasound_measurements                      1   \n",
       "3          5  ultrasound_measurements                      1   \n",
       "4          6  ultrasound_measurements                      1   \n",
       "5          7  ultrasound_measurements                      1   \n",
       "\n",
       "            age_years sex hieght_cm weight charlson_comorbidity_index  \\\n",
       "1  26.404375175397167   1    170.18   65.5                          3   \n",
       "2   35.00687899135506   1     165.1   84.7                          1   \n",
       "3   59.04022669870018   1    182.88  118.3                          4   \n",
       "4   49.10162426333189   1     165.1   88.1                          2   \n",
       "5  61.624696833838705   2     165.1     72                          2   \n",
       "\n",
       "  us_serial_num_udi date_udi_assessment  ... discharge_disposition  \\\n",
       "1                 1    2020-09-03 11:45  ...                     1   \n",
       "2                 1    2020-09-03 15:06  ...                     7   \n",
       "3                 1    2020-09-11 16:10  ...                     7   \n",
       "4                 1    2020-09-11 15:07  ...                     7   \n",
       "5                 1    2020-09-15 15:30  ...                     7   \n",
       "\n",
       "  date_of_death transfer_to_icu_date time_of_intubation_icu  \\\n",
       "1                         2020-08-28       2020-08-28 14:04   \n",
       "2    2020-10-25           2020-08-31       2020-08-28 15:29   \n",
       "3    2020-09-19           2020-09-09       2020-09-09 13:00   \n",
       "4    2020-11-11           2020-08-26       2020-08-24 09:32   \n",
       "5    2020-09-26           2020-09-11       2020-09-10 09:42   \n",
       "\n",
       "  time_of_extubation_icu respiratory_status_at_24_h  \\\n",
       "1       2020-09-10 08:00                          6   \n",
       "2                                                     \n",
       "3       2020-09-13 12:00                          2   \n",
       "4                                                     \n",
       "5                                                     \n",
       "\n",
       "  respiratory_status_at_48_h respiratory_status_at_72_h  \\\n",
       "1                          6                          6   \n",
       "2                                                         \n",
       "3                          2                          1   \n",
       "4                                                         \n",
       "5                                                         \n",
       "\n",
       "  transfer_out_of_icu_date vent_day  \n",
       "1               2020-09-23        6  \n",
       "2                                 6  \n",
       "3               2020-09-14        2  \n",
       "4                                18  \n",
       "5                                 5  \n",
       "\n",
       "[5 rows x 37 columns]"
      ]
     },
     "execution_count": 73,
     "metadata": {},
     "output_type": "execute_result"
    }
   ],
   "source": [
    "# first 5 rows of the data frame\n",
    "explore_data_frame.head()"
   ]
  },
  {
   "cell_type": "code",
   "execution_count": 74,
   "metadata": {},
   "outputs": [
    {
     "data": {
      "text/html": [
       "<div>\n",
       "<style scoped>\n",
       "    .dataframe tbody tr th:only-of-type {\n",
       "        vertical-align: middle;\n",
       "    }\n",
       "\n",
       "    .dataframe tbody tr th {\n",
       "        vertical-align: top;\n",
       "    }\n",
       "\n",
       "    .dataframe thead th {\n",
       "        text-align: right;\n",
       "    }\n",
       "</style>\n",
       "<table border=\"1\" class=\"dataframe\">\n",
       "  <thead>\n",
       "    <tr style=\"text-align: right;\">\n",
       "      <th></th>\n",
       "      <th>subject_id</th>\n",
       "      <th>redcap_repeat_instrument</th>\n",
       "      <th>redcap_repeat_instance</th>\n",
       "      <th>age_years</th>\n",
       "      <th>sex</th>\n",
       "      <th>hieght_cm</th>\n",
       "      <th>weight</th>\n",
       "      <th>charlson_comorbidity_index</th>\n",
       "      <th>us_serial_num_udi</th>\n",
       "      <th>date_udi_assessment</th>\n",
       "      <th>...</th>\n",
       "      <th>discharge_disposition</th>\n",
       "      <th>date_of_death</th>\n",
       "      <th>transfer_to_icu_date</th>\n",
       "      <th>time_of_intubation_icu</th>\n",
       "      <th>time_of_extubation_icu</th>\n",
       "      <th>respiratory_status_at_24_h</th>\n",
       "      <th>respiratory_status_at_48_h</th>\n",
       "      <th>respiratory_status_at_72_h</th>\n",
       "      <th>transfer_out_of_icu_date</th>\n",
       "      <th>vent_day</th>\n",
       "    </tr>\n",
       "  </thead>\n",
       "  <tbody>\n",
       "    <tr>\n",
       "      <th>count</th>\n",
       "      <td>18</td>\n",
       "      <td>18</td>\n",
       "      <td>18</td>\n",
       "      <td>18</td>\n",
       "      <td>18</td>\n",
       "      <td>18</td>\n",
       "      <td>18</td>\n",
       "      <td>18</td>\n",
       "      <td>18</td>\n",
       "      <td>18</td>\n",
       "      <td>...</td>\n",
       "      <td>18</td>\n",
       "      <td>18</td>\n",
       "      <td>18</td>\n",
       "      <td>18</td>\n",
       "      <td>18</td>\n",
       "      <td>18</td>\n",
       "      <td>18</td>\n",
       "      <td>18</td>\n",
       "      <td>18</td>\n",
       "      <td>18</td>\n",
       "    </tr>\n",
       "    <tr>\n",
       "      <th>unique</th>\n",
       "      <td>18</td>\n",
       "      <td>1</td>\n",
       "      <td>1</td>\n",
       "      <td>18</td>\n",
       "      <td>2</td>\n",
       "      <td>9</td>\n",
       "      <td>18</td>\n",
       "      <td>8</td>\n",
       "      <td>1</td>\n",
       "      <td>18</td>\n",
       "      <td>...</td>\n",
       "      <td>5</td>\n",
       "      <td>9</td>\n",
       "      <td>15</td>\n",
       "      <td>17</td>\n",
       "      <td>8</td>\n",
       "      <td>5</td>\n",
       "      <td>5</td>\n",
       "      <td>4</td>\n",
       "      <td>7</td>\n",
       "      <td>12</td>\n",
       "    </tr>\n",
       "    <tr>\n",
       "      <th>top</th>\n",
       "      <td>10</td>\n",
       "      <td>ultrasound_measurements</td>\n",
       "      <td>1</td>\n",
       "      <td>36.19786853939506</td>\n",
       "      <td>1</td>\n",
       "      <td>165.1</td>\n",
       "      <td>70.9</td>\n",
       "      <td>4</td>\n",
       "      <td>1</td>\n",
       "      <td>2020-11-17 16:15</td>\n",
       "      <td>...</td>\n",
       "      <td>7</td>\n",
       "      <td></td>\n",
       "      <td>2020-10-08</td>\n",
       "      <td></td>\n",
       "      <td></td>\n",
       "      <td></td>\n",
       "      <td></td>\n",
       "      <td></td>\n",
       "      <td></td>\n",
       "      <td>6</td>\n",
       "    </tr>\n",
       "    <tr>\n",
       "      <th>freq</th>\n",
       "      <td>1</td>\n",
       "      <td>18</td>\n",
       "      <td>18</td>\n",
       "      <td>1</td>\n",
       "      <td>12</td>\n",
       "      <td>4</td>\n",
       "      <td>1</td>\n",
       "      <td>4</td>\n",
       "      <td>18</td>\n",
       "      <td>1</td>\n",
       "      <td>...</td>\n",
       "      <td>8</td>\n",
       "      <td>10</td>\n",
       "      <td>2</td>\n",
       "      <td>2</td>\n",
       "      <td>11</td>\n",
       "      <td>11</td>\n",
       "      <td>13</td>\n",
       "      <td>14</td>\n",
       "      <td>12</td>\n",
       "      <td>4</td>\n",
       "    </tr>\n",
       "  </tbody>\n",
       "</table>\n",
       "<p>4 rows × 37 columns</p>\n",
       "</div>"
      ],
      "text/plain": [
       "       subject_id redcap_repeat_instrument redcap_repeat_instance  \\\n",
       "count          18                       18                     18   \n",
       "unique         18                        1                      1   \n",
       "top            10  ultrasound_measurements                      1   \n",
       "freq            1                       18                     18   \n",
       "\n",
       "                age_years sex hieght_cm weight charlson_comorbidity_index  \\\n",
       "count                  18  18        18     18                         18   \n",
       "unique                 18   2         9     18                          8   \n",
       "top     36.19786853939506   1     165.1   70.9                          4   \n",
       "freq                    1  12         4      1                          4   \n",
       "\n",
       "       us_serial_num_udi date_udi_assessment  ... discharge_disposition  \\\n",
       "count                 18                  18  ...                    18   \n",
       "unique                 1                  18  ...                     5   \n",
       "top                    1    2020-11-17 16:15  ...                     7   \n",
       "freq                  18                   1  ...                     8   \n",
       "\n",
       "       date_of_death transfer_to_icu_date time_of_intubation_icu  \\\n",
       "count             18                   18                     18   \n",
       "unique             9                   15                     17   \n",
       "top                            2020-10-08                          \n",
       "freq              10                    2                      2   \n",
       "\n",
       "       time_of_extubation_icu respiratory_status_at_24_h  \\\n",
       "count                      18                         18   \n",
       "unique                      8                          5   \n",
       "top                                                        \n",
       "freq                       11                         11   \n",
       "\n",
       "       respiratory_status_at_48_h respiratory_status_at_72_h  \\\n",
       "count                          18                         18   \n",
       "unique                          5                          4   \n",
       "top                                                            \n",
       "freq                           13                         14   \n",
       "\n",
       "       transfer_out_of_icu_date vent_day  \n",
       "count                        18       18  \n",
       "unique                        7       12  \n",
       "top                                    6  \n",
       "freq                         12        4  \n",
       "\n",
       "[4 rows x 37 columns]"
      ]
     },
     "execution_count": 74,
     "metadata": {},
     "output_type": "execute_result"
    }
   ],
   "source": [
    "# data frame summary\n",
    "explore_data_frame.describe()"
   ]
  },
  {
   "cell_type": "code",
   "execution_count": 151,
   "metadata": {},
   "outputs": [
    {
     "data": {
      "text/plain": [
       "1     0.100\n",
       "2     0.230\n",
       "3     0.300\n",
       "4     0.270\n",
       "5     0.195\n",
       "6     0.135\n",
       "7     0.275\n",
       "8     0.190\n",
       "9     0.280\n",
       "10    0.175\n",
       "11    0.260\n",
       "12    0.215\n",
       "13    0.240\n",
       "14    0.140\n",
       "15    0.195\n",
       "16    0.220\n",
       "Name: thickness_ex_tidal, dtype: float64"
      ]
     },
     "execution_count": 151,
     "metadata": {},
     "output_type": "execute_result"
    }
   ],
   "source": [
    "small_df = pd.DataFrame(explore_data_frame, columns =[\"vent_day\", \"age_years\", \"sex\", \"hieght_cm\", \"weight\",\"charlson_comorbidity_index\"]).dropna()\n"
   ]
  },
  {
   "cell_type": "code",
   "execution_count": 85,
   "metadata": {},
   "outputs": [],
   "source": [
    "# covert appropriate columns to numeric data type\n",
    "explore_data_frame[\"age_years\"] = pd.to_numeric(explore_data_frame[\"age_years\"])\n",
    "explore_data_frame[\"hieght_cm\"] = pd.to_numeric(explore_data_frame[\"hieght_cm\"])\n",
    "explore_data_frame[\"weight\"] = pd.to_numeric(explore_data_frame[\"weight\"])\n",
    "explore_data_frame[\"thickness_ex_tidal\"] = pd.to_numeric(explore_data_frame[\"thickness_ex_tidal\"])\n",
    "explore_data_frame[\"thickness_in_tidal\"] = pd.to_numeric(explore_data_frame[\"thickness_in_tidal\"])\n",
    "explore_data_frame[\"thickness_fraction_tidal\"] = pd.to_numeric(explore_data_frame[\"thickness_fraction_tidal\"])\n",
    "explore_data_frame[\"excursion_tidal\"] = pd.to_numeric(explore_data_frame[\"excursion_tidal\"])\n",
    "explore_data_frame[\"contraction_vmax\"] = pd.to_numeric(explore_data_frame[\"contraction_vmax\"])\n",
    "explore_data_frame[\"relaxation_vmax\"] = pd.to_numeric(explore_data_frame[\"relaxation_vmax\"])\n",
    "explore_data_frame[\"acceleration_time\"] = pd.to_numeric(explore_data_frame[\"acceleration_time\"])\n",
    "explore_data_frame[\"relaxation_rate\"] = pd.to_numeric(explore_data_frame[\"relaxation_rate\"])\n",
    "explore_data_frame[\"contraction_vti\"] = pd.to_numeric(explore_data_frame[\"contraction_vti\"])\n",
    "explore_data_frame[\"relaxation_vti\"] = pd.to_numeric(explore_data_frame[\"relaxation_vti\"])\n",
    "explore_data_frame[\"fio2_udi\"] = pd.to_numeric(explore_data_frame[\"fio2_udi\"])\n",
    "explore_data_frame[\"o2_sat_pulsox_udi\"] = pd.to_numeric(explore_data_frame[\"o2_sat_pulsox_udi\"])\n",
    "explore_data_frame[\"number_of_icu_stay\"] = pd.to_numeric(explore_data_frame[\"number_of_icu_stay\"])\n",
    "explore_data_frame[\"vent_day\"] = pd.to_numeric(explore_data_frame[\"vent_day\"])\n"
   ]
  },
  {
   "cell_type": "code",
   "execution_count": 168,
   "metadata": {},
   "outputs": [
    {
     "data": {
      "text/plain": [
       "Text(0, 0.5, 'thickness in cm')"
      ]
     },
     "execution_count": 168,
     "metadata": {},
     "output_type": "execute_result"
    },
    {
     "data": {
      "image/png": "[encoded data removed]",
      "text/plain": [
       "<Figure size 432x288 with 1 Axes>"
      ]
     },
     "metadata": {
      "needs_background": "light"
     },
     "output_type": "display_data"
    }
   ],
   "source": [
    "plt.scatter(explore_data_frame[\"subject_id\"], explore_data_frame[\"thickness_ex_tidal\"])\n",
    "\n",
    "plt.title('scatter plot of baseline diaphragm thickness @ end expiration by subject')\n",
    "plt.xlabel('subject')\n",
    "plt.ylabel('thickness in cm')"
   ]
  },
  {
   "cell_type": "code",
   "execution_count": 89,
   "metadata": {},
   "outputs": [
    {
     "data": {
      "text/plain": [
       "Text(0, 0.5, 'thickness in cm')"
      ]
     },
     "execution_count": 89,
     "metadata": {},
     "output_type": "execute_result"
    },
    {
     "data": {
      "image/png": "[encoded data removed]",
      "text/plain": [
       "<Figure size 432x288 with 1 Axes>"
      ]
     },
     "metadata": {
      "needs_background": "light"
     },
     "output_type": "display_data"
    }
   ],
   "source": [
    "plt.scatter(explore_data_frame[\"subject_id\"], explore_data_frame[\"thickness_in_tidal\"])\n",
    "\n",
    "plt.title('scatter plot of baseline diaphragm thickness @ end inhalation by subject')\n",
    "plt.xlabel('subject')\n",
    "plt.ylabel('thickness in cm')"
   ]
  },
  {
   "cell_type": "code",
   "execution_count": 169,
   "metadata": {},
   "outputs": [
    {
     "data": {
      "text/plain": [
       "Text(0, 0.5, 'thickness fractional change %')"
      ]
     },
     "execution_count": 169,
     "metadata": {},
     "output_type": "execute_result"
    },
    {
     "data": {
      "image/png": "[encoded data removed]",
      "text/plain": [
       "<Figure size 432x288 with 1 Axes>"
      ]
     },
     "metadata": {
      "needs_background": "light"
     },
     "output_type": "display_data"
    }
   ],
   "source": [
    "plt.scatter(explore_data_frame[\"subject_id\"], explore_data_frame[\"thickness_fraction_tidal\"])\n",
    "\n",
    "plt.title('scatter plot of baseline diaphragm thicknessfractional change by subject')\n",
    "plt.xlabel('subject')\n",
    "plt.ylabel('thickness fractional change %')"
   ]
  },
  {
   "cell_type": "code",
   "execution_count": 170,
   "metadata": {},
   "outputs": [
    {
     "data": {
      "text/plain": [
       "Text(0, 0.5, 'excursion distance in cm')"
      ]
     },
     "execution_count": 170,
     "metadata": {},
     "output_type": "execute_result"
    },
    {
     "data": {
      "image/png": "[encoded data removed]",
      "text/plain": [
       "<Figure size 432x288 with 1 Axes>"
      ]
     },
     "metadata": {
      "needs_background": "light"
     },
     "output_type": "display_data"
    }
   ],
   "source": [
    "plt.scatter(explore_data_frame[\"subject_id\"], explore_data_frame[\"excursion_tidal\"])\n",
    "\n",
    "plt.title('scatter plot of baseline diaphragm excursion distance by subject')\n",
    "plt.xlabel('subject')\n",
    "plt.ylabel('excursion distance in cm')"
   ]
  },
  {
   "cell_type": "code",
   "execution_count": 101,
   "metadata": {},
   "outputs": [
    {
     "data": {
      "text/plain": [
       "Text(-5.950000000000003, 0.5, 'thickness in cm')"
      ]
     },
     "execution_count": 101,
     "metadata": {},
     "output_type": "execute_result"
    },
    {
     "data": {
      "image/png": "[encoded data removed]",
      "text/plain": [
       "<Figure size 360x360 with 1 Axes>"
      ]
     },
     "metadata": {
      "needs_background": "light"
     },
     "output_type": "display_data"
    }
   ],
   "source": [
    "sns.lmplot(x = \"vent_day\", y = \"thickness_ex_tidal\", data = explore_data_frame, scatter_kws={\"marker\": \"o\", \"color\": \"indianred\"},\n",
    "           line_kws={\"linewidth\": 2, \"color\": \"blue\"})\n",
    "\n",
    "plt.title('univariate linear regression of thickness @ end exhalation by vent day')\n",
    "plt.xlabel('vent_day')\n",
    "plt.ylabel('thickness in cm')"
   ]
  },
  {
   "cell_type": "code",
   "execution_count": 102,
   "metadata": {},
   "outputs": [
    {
     "data": {
      "text/plain": [
       "Text(0.42499999999999716, 0.5, 'thickness in cm')"
      ]
     },
     "execution_count": 102,
     "metadata": {},
     "output_type": "execute_result"
    },
    {
     "data": {
      "image/png": "[encoded data removed]",
      "text/plain": [
       "<Figure size 360x360 with 1 Axes>"
      ]
     },
     "metadata": {
      "needs_background": "light"
     },
     "output_type": "display_data"
    }
   ],
   "source": [
    "sns.lmplot(x = \"vent_day\", y = \"thickness_in_tidal\", data = explore_data_frame, scatter_kws={\"marker\": \"o\", \"color\": \"indianred\"},\n",
    "           line_kws={\"linewidth\": 2, \"color\": \"blue\"})\n",
    "\n",
    "plt.title('univariate linear regression of thickness @ end inhalation by vent day')\n",
    "plt.xlabel('vent_day')\n",
    "plt.ylabel('thickness in cm')"
   ]
  },
  {
   "cell_type": "code",
   "execution_count": 112,
   "metadata": {},
   "outputs": [
    {
     "data": {
      "text/plain": [
       "Text(1.6749999999999972, 0.5, 'thickness in cm')"
      ]
     },
     "execution_count": 112,
     "metadata": {},
     "output_type": "execute_result"
    },
    {
     "data": {
      "image/png": "[encoded data removed]",
      "text/plain": [
       "<Figure size 360x360 with 1 Axes>"
      ]
     },
     "metadata": {
      "needs_background": "light"
     },
     "output_type": "display_data"
    }
   ],
   "source": [
    "sns.lmplot(x = \"vent_day\", y = \"thickness_fraction_tidal\", data = explore_data_frame, scatter_kws={\"marker\": \"o\", \"color\": \"indianred\"},\n",
    "           line_kws={\"linewidth\": 2, \"color\": \"blue\"})\n",
    "\n",
    "plt.title('univariate linear regression of thickness fractional change by vent day')\n",
    "plt.xlabel('vent_day')\n",
    "plt.ylabel('thickness in cm')"
   ]
  },
  {
   "cell_type": "code",
   "execution_count": 171,
   "metadata": {},
   "outputs": [
    {
     "data": {
      "text/plain": [
       "Text(8.049999999999997, 0.5, 'excursion distance in cm')"
      ]
     },
     "execution_count": 171,
     "metadata": {},
     "output_type": "execute_result"
    },
    {
     "data": {
      "image/png": "[encoded data removed]",
      "text/plain": [
       "<Figure size 360x360 with 1 Axes>"
      ]
     },
     "metadata": {
      "needs_background": "light"
     },
     "output_type": "display_data"
    }
   ],
   "source": [
    "sns.lmplot(x = \"vent_day\", y = \"excursion_tidal\", data = explore_data_frame, scatter_kws={\"marker\": \"o\", \"color\": \"indianred\"},\n",
    "           line_kws={\"linewidth\": 2, \"color\": \"blue\"})\n",
    "\n",
    "plt.title('univariate linear regression of excursion distance by vent day')\n",
    "plt.xlabel('vent_day')\n",
    "plt.ylabel('excursion distance in cm')"
   ]
  },
  {
   "cell_type": "code",
   "execution_count": 130,
   "metadata": {},
   "outputs": [],
   "source": [
    "# Set up X as vent day\n",
    "X = explore_data_frame.vent_day\n",
    "\n",
    "# Use v to make X two-dimensional\n",
    "X = np.vstack(explore_data_frame.vent_day)\n",
    "\n",
    "# Set up Y as the target price of the houses.\n",
    "Y = explore_data_frame.thickness_ex_tidal\n",
    "\n",
    "# Create the X array in the form [X 1]\n",
    "X = np.array( [ [value,1] for value in X ] )\n",
    "\n",
    "X = X.astype(float)"
   ]
  },
  {
   "cell_type": "code",
   "execution_count": 138,
   "metadata": {},
   "outputs": [],
   "source": [
    "X = X[0:16]\n",
    "Y = Y[0:16]"
   ]
  },
  {
   "cell_type": "code",
   "execution_count": 136,
   "metadata": {},
   "outputs": [
    {
     "name": "stderr",
     "output_type": "stream",
     "text": [
      "<ipython-input-136-1645b0053855>:2: FutureWarning: `rcond` parameter will change to the default of machine precision times ``max(M, N)`` where M and N are the input matrix dimensions.\n",
      "To use the future default and silence this warning we advise to pass `rcond=None`, to keep using the old, explicitly pass `rcond=-1`.\n",
      "  m, b= np.linalg.lstsq(X[0:16], Y[0:16])[0]\n"
     ]
    }
   ],
   "source": [
    "# Now get out m and b values for our best fit line\n",
    "m, b= np.linalg.lstsq(X, Y)[0]"
   ]
  },
  {
   "cell_type": "code",
   "execution_count": 135,
   "metadata": {},
   "outputs": [
    {
     "data": {
      "text/plain": [
       "[<matplotlib.lines.Line2D at 0x7fb09c8c9d30>]"
      ]
     },
     "execution_count": 135,
     "metadata": {},
     "output_type": "execute_result"
    },
    {
     "data": {
      "image/png": "[encoded data removed]",
      "text/plain": [
       "<Figure size 432x288 with 1 Axes>"
      ]
     },
     "metadata": {
      "needs_background": "light"
     },
     "output_type": "display_data"
    }
   ],
   "source": [
    "# First the original points, Price vs Avg Number of Rooms\n",
    "plt.plot(explore_data_frame.vent_day,explore_data_frame.thickness_ex_tidal,'o')\n",
    "\n",
    "# Next the best fit line\n",
    "x= explore_data_frame.vent_day\n",
    "plt.plot(x, m*x + b,'r',label='Best Fit Line')"
   ]
  },
  {
   "cell_type": "code",
   "execution_count": 139,
   "metadata": {},
   "outputs": [
    {
     "name": "stdout",
     "output_type": "stream",
     "text": [
      "The root mean squared error was 0.05 \n"
     ]
    },
    {
     "name": "stderr",
     "output_type": "stream",
     "text": [
      "<ipython-input-139-20582ca7d176>:2: FutureWarning: `rcond` parameter will change to the default of machine precision times ``max(M, N)`` where M and N are the input matrix dimensions.\n",
      "To use the future default and silence this warning we advise to pass `rcond=None`, to keep using the old, explicitly pass `rcond=-1`.\n",
      "  result = np.linalg.lstsq(X,Y)\n"
     ]
    }
   ],
   "source": [
    "# Get the resulting array\n",
    "result = np.linalg.lstsq(X,Y)\n",
    "\n",
    "# Get the total error\n",
    "error_total = result[1]\n",
    "\n",
    "# Get the root mean square error\n",
    "rmse = np.sqrt(error_total/len(X) )\n",
    "\n",
    "# Print\n",
    "print(\"The root mean squared error was %.2f \" %rmse)"
   ]
  },
  {
   "cell_type": "code",
   "execution_count": 140,
   "metadata": {},
   "outputs": [],
   "source": [
    "# Import for Linear Regression\n",
    "import sklearn\n",
    "from sklearn.linear_model import LinearRegression"
   ]
  },
  {
   "cell_type": "code",
   "execution_count": 154,
   "metadata": {},
   "outputs": [],
   "source": [
    "# Create a LinearRegression Object\n",
    "lreg = LinearRegression()"
   ]
  },
  {
   "cell_type": "code",
   "execution_count": 155,
   "metadata": {},
   "outputs": [],
   "source": [
    "# Data Columns\n",
    "X_multi = pd.DataFrame(explore_data_frame, columns =[\"vent_day\", \"age_years\", \"sex\", \"hieght_cm\", \"weight\",\"charlson_comorbidity_index\"]).dropna()\n",
    "\n",
    "# Targets\n",
    "Y_target = explore_data_frame.thickness_ex_tidal[0:len(X_multi)]"
   ]
  },
  {
   "cell_type": "code",
   "execution_count": 156,
   "metadata": {},
   "outputs": [
    {
     "data": {
      "text/plain": [
       "LinearRegression()"
      ]
     },
     "execution_count": 156,
     "metadata": {},
     "output_type": "execute_result"
    }
   ],
   "source": [
    "# Implement Linear Regression\n",
    "lreg.fit(X_multi,Y_target)"
   ]
  },
  {
   "cell_type": "code",
   "execution_count": 157,
   "metadata": {},
   "outputs": [
    {
     "name": "stdout",
     "output_type": "stream",
     "text": [
      " The estimated intercept coefficient is 1.08 \n",
      " The number of coefficients used was 6 \n"
     ]
    }
   ],
   "source": [
    "print(' The estimated intercept coefficient is %.2f ' %lreg.intercept_)\n",
    "print(' The number of coefficients used was %d ' % len(lreg.coef_))"
   ]
  },
  {
   "cell_type": "code",
   "execution_count": 166,
   "metadata": {},
   "outputs": [
    {
     "data": {
      "text/html": [
       "<div>\n",
       "<style scoped>\n",
       "    .dataframe tbody tr th:only-of-type {\n",
       "        vertical-align: middle;\n",
       "    }\n",
       "\n",
       "    .dataframe tbody tr th {\n",
       "        vertical-align: top;\n",
       "    }\n",
       "\n",
       "    .dataframe thead th {\n",
       "        text-align: right;\n",
       "    }\n",
       "</style>\n",
       "<table border=\"1\" class=\"dataframe\">\n",
       "  <thead>\n",
       "    <tr style=\"text-align: right;\">\n",
       "      <th></th>\n",
       "      <th>Features</th>\n",
       "      <th>Coefficient Estimate</th>\n",
       "    </tr>\n",
       "  </thead>\n",
       "  <tbody>\n",
       "    <tr>\n",
       "      <th>0</th>\n",
       "      <td>vent_day</td>\n",
       "      <td>-0.003297</td>\n",
       "    </tr>\n",
       "    <tr>\n",
       "      <th>1</th>\n",
       "      <td>age_years</td>\n",
       "      <td>0.000996</td>\n",
       "    </tr>\n",
       "    <tr>\n",
       "      <th>2</th>\n",
       "      <td>sex</td>\n",
       "      <td>-0.068876</td>\n",
       "    </tr>\n",
       "    <tr>\n",
       "      <th>3</th>\n",
       "      <td>hieght_cm</td>\n",
       "      <td>-0.005869</td>\n",
       "    </tr>\n",
       "    <tr>\n",
       "      <th>4</th>\n",
       "      <td>weight</td>\n",
       "      <td>0.002438</td>\n",
       "    </tr>\n",
       "    <tr>\n",
       "      <th>5</th>\n",
       "      <td>charlson_comorbidity_index</td>\n",
       "      <td>0.001616</td>\n",
       "    </tr>\n",
       "  </tbody>\n",
       "</table>\n",
       "</div>"
      ],
      "text/plain": [
       "                     Features  Coefficient Estimate\n",
       "0                    vent_day             -0.003297\n",
       "1                   age_years              0.000996\n",
       "2                         sex             -0.068876\n",
       "3                   hieght_cm             -0.005869\n",
       "4                      weight              0.002438\n",
       "5  charlson_comorbidity_index              0.001616"
      ]
     },
     "execution_count": 166,
     "metadata": {},
     "output_type": "execute_result"
    }
   ],
   "source": [
    "# Set a DataFrame from the Features\n",
    "coeff_df = pd.DataFrame([\"vent_day\", \"age_years\", \"sex\", \"hieght_cm\", \"weight\",\"charlson_comorbidity_index\"])\n",
    "\n",
    "coeff_df.columns = ['Features']\n",
    "\n",
    "# Set a new column lining up the coefficients from the linear regression\n",
    "coeff_df[\"Coefficient Estimate\"] = pd.Series(lreg.coef_)\n",
    "\n",
    "# Show\n",
    "coeff_df"
   ]
  },
  {
   "cell_type": "code",
   "execution_count": null,
   "metadata": {},
   "outputs": [],
   "source": [
    "# Grab the output and set as X and Y test and train data sets!\n",
    "X_train, X_test, Y_train, Y_test = sklearn.cross_validation.train_test_split(X,explore_data_frame.thickness_ex_tidal[0:len(X)])"
   ]
  }
 ],
 "metadata": {
  "kernelspec": {
   "display_name": "Python 3",
   "language": "python",
   "name": "python3"
  },
  "language_info": {
   "codemirror_mode": {
    "name": "ipython",
    "version": 3
   },
   "file_extension": ".py",
   "mimetype": "text/x-python",
   "name": "python",
   "nbconvert_exporter": "python",
   "pygments_lexer": "ipython3",
   "version": "3.8.3"
  }
 },
 "nbformat": 4,
 "nbformat_minor": 4
}
